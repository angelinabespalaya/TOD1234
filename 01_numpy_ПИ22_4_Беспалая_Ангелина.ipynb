{
  "cells": [
    {
      "cell_type": "markdown",
      "metadata": {
        "id": "d5ctm2T9esoW"
      },
      "source": [
        "# Numpy"
      ]
    },
    {
      "cell_type": "markdown",
      "metadata": {
        "id": "m0VcfWwPesoY"
      },
      "source": [
        "Материалы:\n",
        "* Макрушин С.В. \"Лекция 1: Библиотека Numpy\"\n",
        "* https://numpy.org/doc/stable/user/index.html\n",
        "* https://numpy.org/doc/stable/reference/index.html"
      ]
    },
    {
      "cell_type": "markdown",
      "metadata": {
        "id": "ECzH8WriesoZ"
      },
      "source": [
        "## Задачи для совместного разбора"
      ]
    },
    {
      "cell_type": "code",
      "execution_count": 1,
      "metadata": {
        "id": "vGHhLacXesoa"
      },
      "outputs": [],
      "source": [
        "import numpy as np\n",
        "import random\n",
        "\n"
      ]
    },
    {
      "cell_type": "markdown",
      "metadata": {
        "id": "7HFIlKdGesoZ"
      },
      "source": [
        "1. Сгенерировать двухмерный массив `arr` размерности (4, 7), состоящий из случайных действительных чисел, равномерно распределенных в диапазоне от 0 до 20. Нормализовать значения массива с помощью преобразования вида  $𝑎𝑥+𝑏$  так, что после нормализации максимальный элемент масcива будет равен 1.0, минимальный 0.0"
      ]
    },
    {
      "cell_type": "code",
      "source": [
        "arr = np.linspace(0,20, 4*7).reshape(4,7)\n",
        "arr/20+0"
      ],
      "metadata": {
        "colab": {
          "base_uri": "https://localhost:8080/"
        },
        "id": "FkxkW2ZIw28x",
        "outputId": "6473cd0b-bfd1-4811-b2ca-08cc941a0085"
      },
      "execution_count": 2,
      "outputs": [
        {
          "output_type": "execute_result",
          "data": {
            "text/plain": [
              "array([[0.        , 0.03703704, 0.07407407, 0.11111111, 0.14814815,\n",
              "        0.18518519, 0.22222222],\n",
              "       [0.25925926, 0.2962963 , 0.33333333, 0.37037037, 0.40740741,\n",
              "        0.44444444, 0.48148148],\n",
              "       [0.51851852, 0.55555556, 0.59259259, 0.62962963, 0.66666667,\n",
              "        0.7037037 , 0.74074074],\n",
              "       [0.77777778, 0.81481481, 0.85185185, 0.88888889, 0.92592593,\n",
              "        0.96296296, 1.        ]])"
            ]
          },
          "metadata": {},
          "execution_count": 2
        }
      ]
    },
    {
      "cell_type": "markdown",
      "metadata": {
        "id": "fyXjfiOiesoa"
      },
      "source": [
        "2. Создать матрицу 8 на 10 из случайных целых (используя модуль `numpy.random`) чисел из диапозона от 0 до 10 и найти в ней строку (ее индекс и вывести саму строку), в которой сумма значений минимальна."
      ]
    },
    {
      "cell_type": "code",
      "source": [
        "matrix = np.random.randint(0,10, 8*10).reshape(8,10)\n",
        "summ = sum(matrix[0])\n",
        "l = 0\n",
        "for i in range(len(matrix)):\n",
        "    if sum(matrix[i])>= summ:\n",
        "        l = i\n",
        "        summ = sum(matrix[i])\n",
        "        \n",
        "print(f'Строка с номером {l}, ее сумма: {summ}')\n",
        "matrix"
      ],
      "metadata": {
        "colab": {
          "base_uri": "https://localhost:8080/"
        },
        "id": "k5fA2PHX0MWZ",
        "outputId": "06a513d6-83ab-4cc0-8c1a-3faf2b6b2534"
      },
      "execution_count": 3,
      "outputs": [
        {
          "output_type": "stream",
          "name": "stdout",
          "text": [
            "Строка с номером 6, ее сумма: 51\n"
          ]
        },
        {
          "output_type": "execute_result",
          "data": {
            "text/plain": [
              "array([[4, 2, 6, 1, 4, 4, 6, 2, 4, 5],\n",
              "       [6, 3, 0, 0, 3, 5, 2, 7, 9, 9],\n",
              "       [2, 6, 1, 1, 9, 7, 2, 1, 4, 3],\n",
              "       [4, 5, 3, 6, 5, 8, 8, 2, 8, 1],\n",
              "       [4, 2, 4, 5, 2, 8, 8, 0, 1, 8],\n",
              "       [9, 2, 6, 1, 7, 1, 6, 7, 3, 8],\n",
              "       [4, 9, 6, 5, 4, 6, 3, 9, 5, 0],\n",
              "       [0, 8, 4, 0, 3, 2, 6, 7, 2, 2]])"
            ]
          },
          "metadata": {},
          "execution_count": 3
        }
      ]
    },
    {
      "cell_type": "markdown",
      "metadata": {
        "id": "vnKxYysOesob"
      },
      "source": [
        "3. Найти евклидово расстояние между двумя одномерными векторами одинаковой размерности."
      ]
    },
    {
      "cell_type": "code",
      "source": [
        "point_1 = np.array((0, 0, 0))\n",
        "point_2 = np.array((3, 3, 3))\n",
        "\n",
        "square = np.square(point_1 - point_2)\n",
        "sum_square = np.sum(square)\n",
        "distance = np.sqrt(sum_square)\n",
        "\n",
        "distance"
      ],
      "metadata": {
        "colab": {
          "base_uri": "https://localhost:8080/"
        },
        "id": "igIx2v0r2V8v",
        "outputId": "c5c44a2e-a626-40bc-b364-8a8d5c198e9f"
      },
      "execution_count": 4,
      "outputs": [
        {
          "output_type": "execute_result",
          "data": {
            "text/plain": [
              "5.196152422706632"
            ]
          },
          "metadata": {},
          "execution_count": 4
        }
      ]
    },
    {
      "cell_type": "markdown",
      "metadata": {
        "id": "y7I1UhCnesob"
      },
      "source": [
        "4. Решить матричное уравнение `A*X*B=-C` - найти матрицу `X`. Где `A = [[-1, 2, 4], [-3, 1, 2], [-3, 0, 1]]`, `B=[[3, -1], [2, 1]]`, `C=[[7, 21], [11, 8], [8, 4]]`."
      ]
    },
    {
      "cell_type": "code",
      "source": [
        "A = np.matrix([[-1, 2, 4], [-3, 1, 2], [-3, 0, 1]])\n",
        "B= np.matrix([[3, -1], [2, 1]])\n",
        "C= np.matrix([[7, 21], [11, 8], [8, 4]])\n",
        "\n",
        "np.matmul(np.matmul(np.linalg.inv(A), (-C)), np.linalg.inv(B))"
      ],
      "metadata": {
        "colab": {
          "base_uri": "https://localhost:8080/"
        },
        "id": "TgWI_OQs2Vc2",
        "outputId": "e6686b32-bbdc-4c65-c6bf-c8843a5d849c"
      },
      "execution_count": 5,
      "outputs": [
        {
          "output_type": "execute_result",
          "data": {
            "text/plain": [
              "matrix([[ 1.00000000e+00,  5.32907052e-16],\n",
              "        [-2.00000000e+00,  1.00000000e+00],\n",
              "        [ 3.00000000e+00, -4.00000000e+00]])"
            ]
          },
          "metadata": {},
          "execution_count": 5
        }
      ]
    },
    {
      "cell_type": "markdown",
      "metadata": {
        "id": "6JPjm5b-esob"
      },
      "source": [
        "## Лабораторная работа №1"
      ]
    },
    {
      "cell_type": "markdown",
      "source": [
        "# Новый раздел"
      ],
      "metadata": {
        "id": "SUhQapOi9vgj"
      }
    },
    {
      "cell_type": "markdown",
      "metadata": {
        "id": "Rsy9CrwBesob"
      },
      "source": [
        "Замечание: при решении данных задач не подразумевается использования циклов или генераторов Python, если в задании не сказано обратного. Решение должно опираться на использования функционала библиотеки `numpy`."
      ]
    },
    {
      "cell_type": "markdown",
      "metadata": {
        "id": "KT46cl71esoc"
      },
      "source": [
        "1. Файл `minutes_n_ingredients.csv` содержит информацию об идентификаторе рецепта, времени его выполнения в минутах и количестве необходимых ингредиентов. Считайте данные из этого файла в виде массива `numpy` типа `int32`, используя `np.loadtxt`. Выведите на экран первые 5 строк массива."
      ]
    },
    {
      "cell_type": "code",
      "source": [
        "import numpy as np\n",
        "data = np.loadtxt(\"minutes_n_ingredients.csv\",skiprows=1, delimiter=',', dtype=np.int32)\n",
        "print(data[:5])"
      ],
      "metadata": {
        "id": "a7eZM-r1e-Eg",
        "colab": {
          "base_uri": "https://localhost:8080/"
        },
        "outputId": "67e82235-1d85-4ef5-9364-ce71e3334e97"
      },
      "execution_count": 6,
      "outputs": [
        {
          "output_type": "stream",
          "name": "stdout",
          "text": [
            "[[127244     60     16]\n",
            " [ 23891     25      7]\n",
            " [ 94746     10      6]\n",
            " [ 67660      5      6]\n",
            " [157911     60     14]]\n"
          ]
        }
      ]
    },
    {
      "cell_type": "markdown",
      "metadata": {
        "id": "vbBLVa7iesoc"
      },
      "source": [
        "2. Вычислите среднее значение, минимум, максимум и медиану по каждому из столбцов, кроме первого."
      ]
    },
    {
      "cell_type": "code",
      "source": [
        "column = 1\n",
        "print(f\"Минимальное: {np.min(data[:, column])}\", f\"Максимальное: {np.max(data[:, column])}\", f'Среднее: {np.mean(data[:, column])}', f\"Медиана: {np.median(data[:, column])}\", sep='\\n', end='\\n\\n')\n",
        "column = 2\n",
        "print(f\"Минимальное: {np.min(data[:, column])}\", f\"Максимальное: {np.max(data[:, column])}\", f'Среднее: {np.mean(data[:, column])}', f\"Медиана: {np.median(data[:, column])}\", sep='\\n', end='\\n\\n')\n",
        "\n"
      ],
      "metadata": {
        "colab": {
          "base_uri": "https://localhost:8080/"
        },
        "id": "8-sWMPKe6w7I",
        "outputId": "8871ca85-f02f-4283-fe30-f34ec4978b2a"
      },
      "execution_count": 7,
      "outputs": [
        {
          "output_type": "stream",
          "name": "stdout",
          "text": [
            "Минимальное: 0\n",
            "Максимальное: 2147483647\n",
            "Среднее: 21601.00169\n",
            "Медиана: 40.0\n",
            "\n",
            "Минимальное: 1\n",
            "Максимальное: 39\n",
            "Среднее: 9.05528\n",
            "Медиана: 9.0\n",
            "\n"
          ]
        }
      ]
    },
    {
      "cell_type": "markdown",
      "metadata": {
        "id": "cSMxDJbLesoc"
      },
      "source": [
        "3. Ограничьте сверху значения продолжительности выполнения рецепта значением квантиля $q_{0.75}$. "
      ]
    },
    {
      "cell_type": "code",
      "source": [
        "time_out = data.copy()\n",
        "q_3 = np.quantile(time_out[:, 1], q=0.75, axis=0)\n",
        "time_out[:, 1][time_out[:, 1] > q_3] = q_3\n",
        "\n",
        "print(time_out)"
      ],
      "metadata": {
        "colab": {
          "base_uri": "https://localhost:8080/"
        },
        "id": "ilFj5Dmf_kQ9",
        "outputId": "37e99046-35a4-40b3-f4a7-cea0070b95b3"
      },
      "execution_count": 8,
      "outputs": [
        {
          "output_type": "stream",
          "name": "stdout",
          "text": [
            "[[127244     60     16]\n",
            " [ 23891     25      7]\n",
            " [ 94746     10      6]\n",
            " ...\n",
            " [498432     65     15]\n",
            " [370915      5      4]\n",
            " [ 81993     65     14]]\n"
          ]
        }
      ]
    },
    {
      "cell_type": "markdown",
      "metadata": {
        "id": "xfXBQJSResoc"
      },
      "source": [
        "4. Посчитайте, для скольких рецептов указана продолжительность, равная нулю. Замените для таких строк значение в данном столбце на 1."
      ]
    },
    {
      "cell_type": "code",
      "source": [
        "without_0 = time_out.copy()\n",
        "good_day = without_0[:, 1] == 0\n",
        "zero = np.count_nonzero(good_day)\n",
        "without_0[:, 1][good_day] = 1\n",
        "\n",
        "print(zero)\n",
        "print(without_0)"
      ],
      "metadata": {
        "colab": {
          "base_uri": "https://localhost:8080/"
        },
        "id": "Ikcu0jeKO5tz",
        "outputId": "3c22656b-3d87-4242-9107-a36f09ef2eda"
      },
      "execution_count": 9,
      "outputs": [
        {
          "output_type": "stream",
          "name": "stdout",
          "text": [
            "479\n",
            "[[127244     60     16]\n",
            " [ 23891     25      7]\n",
            " [ 94746     10      6]\n",
            " ...\n",
            " [498432     65     15]\n",
            " [370915      5      4]\n",
            " [ 81993     65     14]]\n"
          ]
        }
      ]
    },
    {
      "cell_type": "markdown",
      "metadata": {
        "id": "jB8oHTrmesoc"
      },
      "source": [
        "5. Посчитайте, сколько уникальных рецептов находится в датасете."
      ]
    },
    {
      "cell_type": "code",
      "source": [
        "unique_items = np.unique(without_0[:, 1:], axis=0).shape[0]\n",
        "print(unique_items)"
      ],
      "metadata": {
        "colab": {
          "base_uri": "https://localhost:8080/"
        },
        "id": "CDCMHyDkPHGu",
        "outputId": "78cc59e8-a9b9-49ab-98ff-9095b5b181c7"
      },
      "execution_count": 10,
      "outputs": [
        {
          "output_type": "stream",
          "name": "stdout",
          "text": [
            "1135\n"
          ]
        }
      ]
    },
    {
      "cell_type": "markdown",
      "metadata": {
        "id": "b7fQDIjZesod"
      },
      "source": [
        "6. Сколько и каких различных значений кол-ва ингредиентов присутвует в рецептах из датасета?"
      ]
    },
    {
      "cell_type": "code",
      "source": [
        "print(len(np.unique(without_0[:, 2])))"
      ],
      "metadata": {
        "colab": {
          "base_uri": "https://localhost:8080/"
        },
        "id": "r-NFnba_PICo",
        "outputId": "fd24c5c2-86cb-4d21-d0d2-bc75f5c463b4"
      },
      "execution_count": 11,
      "outputs": [
        {
          "output_type": "stream",
          "name": "stdout",
          "text": [
            "37\n"
          ]
        }
      ]
    },
    {
      "cell_type": "markdown",
      "metadata": {
        "id": "G4J4RgQ6esod"
      },
      "source": [
        "7. Создайте версию массива, содержащую информацию только о рецептах, состоящих не более чем из 5 ингредиентов."
      ]
    },
    {
      "cell_type": "code",
      "source": [
        "without_0[without_0[:, 2] <= 5]"
      ],
      "metadata": {
        "colab": {
          "base_uri": "https://localhost:8080/"
        },
        "id": "MOSGFHivPJlP",
        "outputId": "bcae82b0-dc22-4d8a-d2d0-73547419f658"
      },
      "execution_count": 12,
      "outputs": [
        {
          "output_type": "execute_result",
          "data": {
            "text/plain": [
              "array([[446597,     15,      5],\n",
              "       [204134,      5,      3],\n",
              "       [ 25623,      6,      4],\n",
              "       ...,\n",
              "       [ 52088,     60,      5],\n",
              "       [128811,     15,      4],\n",
              "       [370915,      5,      4]], dtype=int32)"
            ]
          },
          "metadata": {},
          "execution_count": 12
        }
      ]
    },
    {
      "cell_type": "markdown",
      "metadata": {
        "id": "8KONQk8Cesod"
      },
      "source": [
        "8. Для каждого рецепта посчитайте, сколько в среднем ингредиентов приходится на одну минуту рецепта. Найдите максимальное значение этой величины для всего датасета"
      ]
    },
    {
      "cell_type": "code",
      "source": [
        "temp = without_0.copy()\n",
        "result = (temp[:,2]/temp[:,1])\n",
        "print(\"Ингридиентов на одну минуту рецепта: \",result)\n",
        "print('Максимальное значение: ',result.max())"
      ],
      "metadata": {
        "colab": {
          "base_uri": "https://localhost:8080/"
        },
        "id": "9eg9WeHEPK5p",
        "outputId": "a322bd36-ce97-4f4e-9c60-57d42197e72d"
      },
      "execution_count": 13,
      "outputs": [
        {
          "output_type": "stream",
          "name": "stdout",
          "text": [
            "Ингридиентов на одну минуту рецепта:  [0.26666667 0.28       0.6        ... 0.23076923 0.8        0.21538462]\n",
            "Максимальное значение:  24.0\n"
          ]
        }
      ]
    },
    {
      "cell_type": "markdown",
      "metadata": {
        "id": "oDOmbV1Oesod"
      },
      "source": [
        "9. Вычислите среднее количество ингредиентов для топ-100 рецептов с наибольшей продолжительностью"
      ]
    },
    {
      "cell_type": "code",
      "source": [
        "long_recept = np.argsort(without_0[:, 1])[:-100:-1]\n",
        "without_0[long_recept][:, 2].mean()"
      ],
      "metadata": {
        "colab": {
          "base_uri": "https://localhost:8080/"
        },
        "id": "lEcqqy8aRGT1",
        "outputId": "ac4c83e3-bdf1-4dfa-d46b-9992ff107ae7"
      },
      "execution_count": 14,
      "outputs": [
        {
          "output_type": "execute_result",
          "data": {
            "text/plain": [
              "9.94949494949495"
            ]
          },
          "metadata": {},
          "execution_count": 14
        }
      ]
    },
    {
      "cell_type": "markdown",
      "metadata": {
        "id": "7NIP0mFbesod"
      },
      "source": [
        "10. Выберите случайным образом и выведите информацию о 10 различных рецептах"
      ]
    },
    {
      "cell_type": "code",
      "source": [
        "data[np.random.randint(data.shape[0], size=10), :]"
      ],
      "metadata": {
        "colab": {
          "base_uri": "https://localhost:8080/"
        },
        "id": "0k0Q5bXhRHO-",
        "outputId": "43a8d2f5-de34-40a0-fe48-94bb275c3e01"
      },
      "execution_count": 15,
      "outputs": [
        {
          "output_type": "execute_result",
          "data": {
            "text/plain": [
              "array([[325427,     75,     15],\n",
              "       [ 41272,     15,      9],\n",
              "       [158853,     35,      9],\n",
              "       [256099,    365,      8],\n",
              "       [287747,     20,      8],\n",
              "       [ 45680,      4,      7],\n",
              "       [184029,     70,      6],\n",
              "       [217128,   1440,      7],\n",
              "       [235117,     75,      8],\n",
              "       [342190,     30,     10]], dtype=int32)"
            ]
          },
          "metadata": {},
          "execution_count": 15
        }
      ]
    },
    {
      "cell_type": "markdown",
      "metadata": {
        "id": "iQVbraU5esoe"
      },
      "source": [
        "11. Выведите процент рецептов, кол-во ингредиентов в которых меньше среднего."
      ]
    },
    {
      "cell_type": "code",
      "source": [
        "not_bad_percent = without_0[long_recept][:, 2].mean()\n",
        "good_day = data[:, 2] < not_bad_percent\n",
        "print(len(data[good_day])/len(data) * 100)"
      ],
      "metadata": {
        "colab": {
          "base_uri": "https://localhost:8080/"
        },
        "id": "7rWy31HzRH5W",
        "outputId": "5087fd51-8679-490e-ddc5-e5ad04dbe1b7"
      },
      "execution_count": 16,
      "outputs": [
        {
          "output_type": "stream",
          "name": "stdout",
          "text": [
            "58.802\n"
          ]
        }
      ]
    },
    {
      "cell_type": "markdown",
      "metadata": {
        "id": "gpv6d-m3esoe"
      },
      "source": [
        "12. Назовем \"простым\" такой рецепт, длительность выполнения которого не больше 20 минут и кол-во ингредиентов в котором не больше 5. Создайте версию датасета с дополнительным столбцом, значениями которого являются 1, если рецепт простой, и 0 в противном случае."
      ]
    },
    {
      "cell_type": "code",
      "source": [
        "single = np.where((data[:,1]<=20) & (data[:,2]<=5), 1, 0)\n",
        "dataset12 = np.column_stack((data, single))\n",
        "dataset12"
      ],
      "metadata": {
        "id": "8tx5qh18RIja",
        "colab": {
          "base_uri": "https://localhost:8080/"
        },
        "outputId": "cdafd88e-05a5-426c-acd3-6ae3ccf1e1f2"
      },
      "execution_count": 17,
      "outputs": [
        {
          "output_type": "execute_result",
          "data": {
            "text/plain": [
              "array([[127244,     60,     16,      0],\n",
              "       [ 23891,     25,      7,      0],\n",
              "       [ 94746,     10,      6,      0],\n",
              "       ...,\n",
              "       [498432,     65,     15,      0],\n",
              "       [370915,      5,      4,      1],\n",
              "       [ 81993,    140,     14,      0]])"
            ]
          },
          "metadata": {},
          "execution_count": 17
        }
      ]
    },
    {
      "cell_type": "markdown",
      "metadata": {
        "id": "rhLDwpn1esoe"
      },
      "source": [
        "13. Выведите процент \"простых\" рецептов в датасете"
      ]
    },
    {
      "cell_type": "code",
      "source": [
        "np.sum(dataset12[:, 3]==1)/data[:,0].size * 100"
      ],
      "metadata": {
        "id": "VwwRg7OtRJoB",
        "colab": {
          "base_uri": "https://localhost:8080/"
        },
        "outputId": "b012c274-17bc-4790-f906-7e7d6247737e"
      },
      "execution_count": 18,
      "outputs": [
        {
          "output_type": "execute_result",
          "data": {
            "text/plain": [
              "9.552"
            ]
          },
          "metadata": {},
          "execution_count": 18
        }
      ]
    },
    {
      "cell_type": "markdown",
      "metadata": {
        "id": "PdIivnc4esoe"
      },
      "source": [
        "14. Разделим рецепты на группы по следующему правилу. Назовем рецепты короткими, если их продолжительность составляет менее 10 минут; стандартными, если их продолжительность составляет более 10, но менее 20 минут; и длинными, если их продолжительность составляет не менее 20 минут. Создайте трехмерный массив, где нулевая ось отвечает за номер группы (короткий, стандартный или длинный рецепт), первая ось - за сам рецепт и вторая ось - за характеристики рецепта. Выберите максимальное количество рецептов из каждой группы таким образом, чтобы было возможно сформировать трехмерный массив. Выведите форму полученного массива."
      ]
    },
    {
      "cell_type": "code",
      "execution_count": 19,
      "metadata": {
        "id": "xhJsvdB-esoe",
        "colab": {
          "base_uri": "https://localhost:8080/"
        },
        "outputId": "0d15d26f-9b0f-43a3-ed81-03d990db6f81"
      },
      "outputs": [
        {
          "output_type": "execute_result",
          "data": {
            "text/plain": [
              "array([[94746,    10,     6]], dtype=int32)"
            ]
          },
          "metadata": {},
          "execution_count": 19
        }
      ],
      "source": [
        "short = data[data[:, 1]<10, :]\n",
        "standart = data[np.where((10<=data[:, 1]) & (data[:, 1]<20)), :]\n",
        "long = data[20<=data[:, 1], :]\n",
        "\n",
        "len_rec = min(short.size,long.size,standart.size)//3\n",
        "\n",
        "short_id = short[:len_rec, 0]\n",
        "standart_id = standart[:len_rec, 0]\n",
        "long_id = long[:len_rec, 0]\n",
        "\n",
        "# print(standart_id.shape)\n",
        "\n",
        "short_rec = short[:len_rec, 1:]\n",
        "standart_rec = standart[1:, :len_rec]\n",
        "long_rec = long[:len_rec, 1:]\n",
        "\n",
        "dataset14_short = np.array([short_id])\n",
        "dataset14_standart = np.array(standart_id)\n",
        "dataset14_long = np.array([long_id])\n",
        "dataset14_standart\n"
      ]
    }
  ],
  "metadata": {
    "kernelspec": {
      "display_name": "Python 3",
      "language": "python",
      "name": "python3"
    },
    "language_info": {
      "codemirror_mode": {
        "name": "ipython",
        "version": 3
      },
      "file_extension": ".py",
      "mimetype": "text/x-python",
      "name": "python",
      "nbconvert_exporter": "python",
      "pygments_lexer": "ipython3",
      "version": "3.7.6"
    },
    "colab": {
      "provenance": []
    }
  },
  "nbformat": 4,
  "nbformat_minor": 0
}