{
  "cells": [
    {
      "cell_type": "markdown",
      "metadata": {
        "id": "XGWUS8aBUJUM"
      },
      "source": [
        "# Работа с Excel"
      ]
    },
    {
      "cell_type": "markdown",
      "metadata": {
        "id": "qzEldK9bUJUO"
      },
      "source": [
        "Материалы:\n",
        "* Макрушин С.В. Лекция 7: Работа с Excel\n",
        "* https://docs.xlwings.org/en/stable/quickstart.html\n",
        "* https://nbviewer.jupyter.org/github/pybokeh/jupyter_notebooks/blob/master/xlwings/Excel_Formatting.ipynb#search_text\n"
      ]
    },
    {
      "cell_type": "markdown",
      "metadata": {
        "id": "Iqh1N57OUJUP"
      },
      "source": [
        "## Задачи для совместного разбора"
      ]
    },
    {
      "cell_type": "code",
      "source": [
        "import xlwings as xw\n",
        "import numpy as np\n",
        "import pandas as pd"
      ],
      "metadata": {
        "id": "m_7Ci6YF9FLc"
      },
      "execution_count": null,
      "outputs": []
    },
    {
      "cell_type": "markdown",
      "metadata": {
        "id": "xfdvpodBUJUP"
      },
      "source": [
        "1. На листе \"Рецептура\" файла `себестоимостьА_в1.xlsx` для области \"Пшеничный хлеб\" рассчитать себестоимость всех видов продукции."
      ]
    },
    {
      "cell_type": "code",
      "source": [
        "wb = xw.Book('data\\\\себестоимостьА_в1.xlsx') \n",
        "sht = wb.sheets['Рецептура']\n",
        "val = pd.DataFrame(sht.range(\"G7:O10\").value)\n",
        "price = sht.range(\"G14:O14\").value\n",
        "cost_price = (val*price).sum(axis=1)\n",
        "wb.save()"
      ],
      "metadata": {
        "id": "pwoH-59N8YFh"
      },
      "execution_count": null,
      "outputs": []
    },
    {
      "cell_type": "markdown",
      "metadata": {
        "id": "IFY6i_LSUJUP"
      },
      "source": [
        "2. Результаты расчетов 1.1 сохранить в отдельном столбце области \"Пшеничный хлеб\""
      ]
    },
    {
      "cell_type": "code",
      "source": [
        "new = cost_price.apply(lambda x: [x]).values\n",
        "sht.range('T7').options(np.array, expand='table', ndim=1).value = new\n",
        "wb.save()"
      ],
      "metadata": {
        "id": "XvNJlKvE9H87"
      },
      "execution_count": null,
      "outputs": []
    },
    {
      "cell_type": "markdown",
      "metadata": {
        "id": "laJUiU6PUJUQ"
      },
      "source": [
        "3. Приблизить форматирование столбца, добавленного в задаче 2 к оформлению всей области."
      ]
    },
    {
      "cell_type": "markdown",
      "metadata": {
        "id": "-X646R6BUJUQ"
      },
      "source": [
        "4. Выполнить 3 с помощью \"протягиваемых\" формул."
      ]
    },
    {
      "cell_type": "code",
      "source": [
        "print(sht.range('P7:P10').color)\n",
        "sht.range('T7:T10').color = sht.range('P7:P10').color\n",
        "sht.range('T7:T10').api.Borders.Weight = sht.range('P7:P10').api.Borders.Weight\n",
        "wb.save()"
      ],
      "metadata": {
        "id": "BIsNwDkV9M_i"
      },
      "execution_count": null,
      "outputs": []
    },
    {
      "cell_type": "markdown",
      "metadata": {
        "id": "zWimBU9hUJUQ"
      },
      "source": [
        "## Лабораторная работа 7.1"
      ]
    },
    {
      "cell_type": "markdown",
      "metadata": {
        "id": "DtMb6aIdUJUQ"
      },
      "source": [
        "1. Загрузите данные из файлов `reviews_sample.csv` (__ЛР2__) и `recipes_sample.csv` (__ЛР5__) в виде `pd.DataFrame`. Обратите внимание на корректное считывание столбца(ов) с индексами. Оставьте в таблице с рецептами следующие столбцы: `id`, `name`, `minutes`, `submitted`, `description`, `n_ingredients`"
      ]
    },
    {
      "cell_type": "code",
      "source": [
        "import pandas as pd\n",
        "\n",
        "s = ['id', 'name', 'minutes', 'submitted', 'description', 'n_ingredients']\n",
        "reviews = pd.read_csv('reviews_sample.csv')\n",
        "recipes = pd.read_csv('recipes_sample.csv')\n",
        "#print(reviews)\n",
        "#print(recipes)\n",
        "for i in recipes:\n",
        "    if i not in s:\n",
        "        recipes.drop(columns = [i], axis = 1, inplace = True)\n",
        "\n",
        "reviews\n"
      ],
      "metadata": {
        "colab": {
          "base_uri": "https://localhost:8080/",
          "height": 424
        },
        "id": "yNxURH_VU7Es",
        "outputId": "1b427cac-2b5e-49e9-97d3-f678e3ffb625"
      },
      "execution_count": null,
      "outputs": [
        {
          "output_type": "execute_result",
          "data": {
            "text/plain": [
              "        Unnamed: 0     user_id  recipe_id        date  rating  \\\n",
              "0           370476       21752      57993  2003-05-01       5   \n",
              "1           624300      431813     142201  2007-09-16       5   \n",
              "2           187037      400708     252013  2008-01-10       4   \n",
              "3           706134  2001852463     404716  2017-12-11       5   \n",
              "4           312179       95810     129396  2008-03-14       5   \n",
              "...            ...         ...        ...         ...     ...   \n",
              "126691     1013457     1270706     335534  2009-05-17       4   \n",
              "126692      158736     2282344       8701  2012-06-03       0   \n",
              "126693     1059834      689540     222001  2008-04-08       5   \n",
              "126694      453285  2000242659     354979  2015-06-02       5   \n",
              "126695      691207      463435     415599  2010-09-30       5   \n",
              "\n",
              "                                                   review  \n",
              "0       Last week whole sides of frozen salmon fillet ...  \n",
              "1       So simple and so tasty!  I used a yellow capsi...  \n",
              "2       Very nice breakfast HH, easy to make and yummy...  \n",
              "3       These are a favorite for the holidays and so e...  \n",
              "4       Excellent soup!  The tomato flavor is just gre...  \n",
              "...                                                   ...  \n",
              "126691  This recipe was great! I made it last night. I...  \n",
              "126692  This recipe is outstanding. I followed the rec...  \n",
              "126693  Well, we were not a crowd but it was a fabulou...  \n",
              "126694  I have been a steak eater and dedicated BBQ gr...  \n",
              "126695  Wonderful and simple to prepare seasoning blen...  \n",
              "\n",
              "[126696 rows x 6 columns]"
            ],
            "text/html": [
              "\n",
              "  <div id=\"df-57e4c948-2e37-4d7c-a079-a9c2f6e9c098\">\n",
              "    <div class=\"colab-df-container\">\n",
              "      <div>\n",
              "<style scoped>\n",
              "    .dataframe tbody tr th:only-of-type {\n",
              "        vertical-align: middle;\n",
              "    }\n",
              "\n",
              "    .dataframe tbody tr th {\n",
              "        vertical-align: top;\n",
              "    }\n",
              "\n",
              "    .dataframe thead th {\n",
              "        text-align: right;\n",
              "    }\n",
              "</style>\n",
              "<table border=\"1\" class=\"dataframe\">\n",
              "  <thead>\n",
              "    <tr style=\"text-align: right;\">\n",
              "      <th></th>\n",
              "      <th>Unnamed: 0</th>\n",
              "      <th>user_id</th>\n",
              "      <th>recipe_id</th>\n",
              "      <th>date</th>\n",
              "      <th>rating</th>\n",
              "      <th>review</th>\n",
              "    </tr>\n",
              "  </thead>\n",
              "  <tbody>\n",
              "    <tr>\n",
              "      <th>0</th>\n",
              "      <td>370476</td>\n",
              "      <td>21752</td>\n",
              "      <td>57993</td>\n",
              "      <td>2003-05-01</td>\n",
              "      <td>5</td>\n",
              "      <td>Last week whole sides of frozen salmon fillet ...</td>\n",
              "    </tr>\n",
              "    <tr>\n",
              "      <th>1</th>\n",
              "      <td>624300</td>\n",
              "      <td>431813</td>\n",
              "      <td>142201</td>\n",
              "      <td>2007-09-16</td>\n",
              "      <td>5</td>\n",
              "      <td>So simple and so tasty!  I used a yellow capsi...</td>\n",
              "    </tr>\n",
              "    <tr>\n",
              "      <th>2</th>\n",
              "      <td>187037</td>\n",
              "      <td>400708</td>\n",
              "      <td>252013</td>\n",
              "      <td>2008-01-10</td>\n",
              "      <td>4</td>\n",
              "      <td>Very nice breakfast HH, easy to make and yummy...</td>\n",
              "    </tr>\n",
              "    <tr>\n",
              "      <th>3</th>\n",
              "      <td>706134</td>\n",
              "      <td>2001852463</td>\n",
              "      <td>404716</td>\n",
              "      <td>2017-12-11</td>\n",
              "      <td>5</td>\n",
              "      <td>These are a favorite for the holidays and so e...</td>\n",
              "    </tr>\n",
              "    <tr>\n",
              "      <th>4</th>\n",
              "      <td>312179</td>\n",
              "      <td>95810</td>\n",
              "      <td>129396</td>\n",
              "      <td>2008-03-14</td>\n",
              "      <td>5</td>\n",
              "      <td>Excellent soup!  The tomato flavor is just gre...</td>\n",
              "    </tr>\n",
              "    <tr>\n",
              "      <th>...</th>\n",
              "      <td>...</td>\n",
              "      <td>...</td>\n",
              "      <td>...</td>\n",
              "      <td>...</td>\n",
              "      <td>...</td>\n",
              "      <td>...</td>\n",
              "    </tr>\n",
              "    <tr>\n",
              "      <th>126691</th>\n",
              "      <td>1013457</td>\n",
              "      <td>1270706</td>\n",
              "      <td>335534</td>\n",
              "      <td>2009-05-17</td>\n",
              "      <td>4</td>\n",
              "      <td>This recipe was great! I made it last night. I...</td>\n",
              "    </tr>\n",
              "    <tr>\n",
              "      <th>126692</th>\n",
              "      <td>158736</td>\n",
              "      <td>2282344</td>\n",
              "      <td>8701</td>\n",
              "      <td>2012-06-03</td>\n",
              "      <td>0</td>\n",
              "      <td>This recipe is outstanding. I followed the rec...</td>\n",
              "    </tr>\n",
              "    <tr>\n",
              "      <th>126693</th>\n",
              "      <td>1059834</td>\n",
              "      <td>689540</td>\n",
              "      <td>222001</td>\n",
              "      <td>2008-04-08</td>\n",
              "      <td>5</td>\n",
              "      <td>Well, we were not a crowd but it was a fabulou...</td>\n",
              "    </tr>\n",
              "    <tr>\n",
              "      <th>126694</th>\n",
              "      <td>453285</td>\n",
              "      <td>2000242659</td>\n",
              "      <td>354979</td>\n",
              "      <td>2015-06-02</td>\n",
              "      <td>5</td>\n",
              "      <td>I have been a steak eater and dedicated BBQ gr...</td>\n",
              "    </tr>\n",
              "    <tr>\n",
              "      <th>126695</th>\n",
              "      <td>691207</td>\n",
              "      <td>463435</td>\n",
              "      <td>415599</td>\n",
              "      <td>2010-09-30</td>\n",
              "      <td>5</td>\n",
              "      <td>Wonderful and simple to prepare seasoning blen...</td>\n",
              "    </tr>\n",
              "  </tbody>\n",
              "</table>\n",
              "<p>126696 rows × 6 columns</p>\n",
              "</div>\n",
              "      <button class=\"colab-df-convert\" onclick=\"convertToInteractive('df-57e4c948-2e37-4d7c-a079-a9c2f6e9c098')\"\n",
              "              title=\"Convert this dataframe to an interactive table.\"\n",
              "              style=\"display:none;\">\n",
              "        \n",
              "  <svg xmlns=\"http://www.w3.org/2000/svg\" height=\"24px\"viewBox=\"0 0 24 24\"\n",
              "       width=\"24px\">\n",
              "    <path d=\"M0 0h24v24H0V0z\" fill=\"none\"/>\n",
              "    <path d=\"M18.56 5.44l.94 2.06.94-2.06 2.06-.94-2.06-.94-.94-2.06-.94 2.06-2.06.94zm-11 1L8.5 8.5l.94-2.06 2.06-.94-2.06-.94L8.5 2.5l-.94 2.06-2.06.94zm10 10l.94 2.06.94-2.06 2.06-.94-2.06-.94-.94-2.06-.94 2.06-2.06.94z\"/><path d=\"M17.41 7.96l-1.37-1.37c-.4-.4-.92-.59-1.43-.59-.52 0-1.04.2-1.43.59L10.3 9.45l-7.72 7.72c-.78.78-.78 2.05 0 2.83L4 21.41c.39.39.9.59 1.41.59.51 0 1.02-.2 1.41-.59l7.78-7.78 2.81-2.81c.8-.78.8-2.07 0-2.86zM5.41 20L4 18.59l7.72-7.72 1.47 1.35L5.41 20z\"/>\n",
              "  </svg>\n",
              "      </button>\n",
              "      \n",
              "  <style>\n",
              "    .colab-df-container {\n",
              "      display:flex;\n",
              "      flex-wrap:wrap;\n",
              "      gap: 12px;\n",
              "    }\n",
              "\n",
              "    .colab-df-convert {\n",
              "      background-color: #E8F0FE;\n",
              "      border: none;\n",
              "      border-radius: 50%;\n",
              "      cursor: pointer;\n",
              "      display: none;\n",
              "      fill: #1967D2;\n",
              "      height: 32px;\n",
              "      padding: 0 0 0 0;\n",
              "      width: 32px;\n",
              "    }\n",
              "\n",
              "    .colab-df-convert:hover {\n",
              "      background-color: #E2EBFA;\n",
              "      box-shadow: 0px 1px 2px rgba(60, 64, 67, 0.3), 0px 1px 3px 1px rgba(60, 64, 67, 0.15);\n",
              "      fill: #174EA6;\n",
              "    }\n",
              "\n",
              "    [theme=dark] .colab-df-convert {\n",
              "      background-color: #3B4455;\n",
              "      fill: #D2E3FC;\n",
              "    }\n",
              "\n",
              "    [theme=dark] .colab-df-convert:hover {\n",
              "      background-color: #434B5C;\n",
              "      box-shadow: 0px 1px 3px 1px rgba(0, 0, 0, 0.15);\n",
              "      filter: drop-shadow(0px 1px 2px rgba(0, 0, 0, 0.3));\n",
              "      fill: #FFFFFF;\n",
              "    }\n",
              "  </style>\n",
              "\n",
              "      <script>\n",
              "        const buttonEl =\n",
              "          document.querySelector('#df-57e4c948-2e37-4d7c-a079-a9c2f6e9c098 button.colab-df-convert');\n",
              "        buttonEl.style.display =\n",
              "          google.colab.kernel.accessAllowed ? 'block' : 'none';\n",
              "\n",
              "        async function convertToInteractive(key) {\n",
              "          const element = document.querySelector('#df-57e4c948-2e37-4d7c-a079-a9c2f6e9c098');\n",
              "          const dataTable =\n",
              "            await google.colab.kernel.invokeFunction('convertToInteractive',\n",
              "                                                     [key], {});\n",
              "          if (!dataTable) return;\n",
              "\n",
              "          const docLinkHtml = 'Like what you see? Visit the ' +\n",
              "            '<a target=\"_blank\" href=https://colab.research.google.com/notebooks/data_table.ipynb>data table notebook</a>'\n",
              "            + ' to learn more about interactive tables.';\n",
              "          element.innerHTML = '';\n",
              "          dataTable['output_type'] = 'display_data';\n",
              "          await google.colab.output.renderOutput(dataTable, element);\n",
              "          const docLink = document.createElement('div');\n",
              "          docLink.innerHTML = docLinkHtml;\n",
              "          element.appendChild(docLink);\n",
              "        }\n",
              "      </script>\n",
              "    </div>\n",
              "  </div>\n",
              "  "
            ]
          },
          "metadata": {},
          "execution_count": 3
        }
      ]
    },
    {
      "cell_type": "markdown",
      "metadata": {
        "id": "wanHkcWBUJUQ"
      },
      "source": [
        "2. Случайным образом выберите 5% строк из каждой таблицы и сохраните две таблицы на разные листы в один файл `recipes.xlsx`. Дайте листам названия \"Рецепты\" и \"Отзывы\", соответствующие содержанию таблиц. "
      ]
    },
    {
      "cell_type": "code",
      "source": [
        "import openpyxl\n",
        "import numpy as np\n",
        "import pandas as pd\n",
        "import xlsxwriter\n",
        "\n",
        "writer = pd.ExcelWriter('recipes.xlsx')\n",
        "\n",
        "recipes[:150].to_excel(writer, 'Рецепты')\n",
        "reviews[:6334].to_excel(writer, 'Отзывы')\n"
      ],
      "metadata": {
        "id": "6n2y1Cu5hpsS"
      },
      "execution_count": null,
      "outputs": []
    },
    {
      "cell_type": "markdown",
      "metadata": {
        "id": "56VDcm76UJUR"
      },
      "source": [
        "3. Используя `xlwings`, добавьте на лист `Рецепты` столбец `seconds_assign`, показывающий время выполнения рецепта в секундах. Выполните задание при помощи присваивания массива значений диапазону ячеек."
      ]
    },
    {
      "cell_type": "code",
      "source": [
        "seconds = pd.read_excel('data\\\\recipes.xlsx', sheet_name=\"Рецепты\").minutes*60\n",
        "\n",
        "wb3 = xw.Book('data\\\\recipes.xlsx')\n",
        "recipes_sheet = wb3.sheets['Рецепты']\n",
        "\n",
        "new = seconds.apply(lambda x: [x]).values\n",
        "recipes_sheet.range(\"J1\").value=[\"seconds_assign\"]\n",
        "recipes_sheet.range('J1').font.bold = True\n",
        "\n",
        "recipes_sheet.range('J2').options(np.array, expand='table', ndim=1).value = new\n"
      ],
      "metadata": {
        "id": "FdZzEWCYimbM"
      },
      "execution_count": null,
      "outputs": []
    },
    {
      "cell_type": "markdown",
      "metadata": {
        "id": "quo9NEubUJUR"
      },
      "source": [
        "4. Используя `xlwings`, добавьте на лист `Рецепты` столбец `seconds_formula`, показывающий время выполнения рецепта в секундах. Выполните задание при помощи формул Excel."
      ]
    },
    {
      "cell_type": "code",
      "source": [
        "wb3 = xw.Book('data\\\\recipes.xlsx')\n",
        "recipes_sheet = wb3.sheets['Рецепты']\n",
        "\n",
        "range_name=\"D\"\n",
        "first_row_index = recipes_sheet.range(\"D1\").end('left').row\n",
        "last_row_index = recipes_sheet.range(\"D1\").end('down').row\n",
        "row_count = last_row_index - first_row_index\n",
        "recipes_sheet.range(\"K1\").value=[\"seconds_formula\"]\n",
        "recipes_sheet.range('K1').font.bold = True\n",
        "\n",
        "for i in range(2, row_count + 2):\n",
        "    recipes_sheet.range(f\"K{i}\").value = [f\"={range_name}{i}*60\"]\n",
        "wb3.save()"
      ],
      "metadata": {
        "id": "aFwmjnFs9V3S"
      },
      "execution_count": null,
      "outputs": []
    },
    {
      "cell_type": "markdown",
      "metadata": {
        "id": "9YXfGd1oUJUR"
      },
      "source": [
        "5. Сделайте названия всех добавленных столбцов полужирными и выровняйте по центру ячейки."
      ]
    },
    {
      "cell_type": "code",
      "source": [
        "wb5 = xw.Book('data\\\\recipes.xlsx')\n",
        "recipes_sheet = wb5.sheets['Рецепты']\n",
        "recipes_sheet.range(\"J1:K1\").api.HorizontalAlignment = xw.constants.HAlign.xlHAlignCenter\n",
        "recipes_sheet.range(\"J1:K1\").font.bold = True\n",
        "wb5.save()"
      ],
      "metadata": {
        "id": "zLTzGebO9bvh"
      },
      "execution_count": null,
      "outputs": []
    },
    {
      "cell_type": "markdown",
      "metadata": {
        "id": "lmOYYgtzUJUR"
      },
      "source": [
        "6. Раскрасьте ячейки столбца `minutes` в соответствии со следующим правилом: если рецепт выполняется быстрее 5 минут, то цвет - зеленый; от 5 до 10 минут - жёлтый; и больше 10 - красный."
      ]
    },
    {
      "cell_type": "code",
      "source": [
        "wb6 = xw.Book('data\\\\recipes.xlsx')\n",
        "recipes_sheet = wb6.sheets['Рецепты']\n",
        "row_count = 1500\n",
        "column_name = \"D\"\n",
        "for i in range(2, row_count+2):\n",
        "    val = recipes_sheet.range(f\"D{i}\").value\n",
        "    print(val)\n",
        "    if val < 5:\n",
        "        recipes_sheet.range(f\"D{i}\").color = (124, 252, 0)\n",
        "        print(5)\n",
        "    elif 5 <= val <= 10:\n",
        "        recipes_sheet.range(f\"D{i}\").color = (255, 255, 167)\n",
        "        print(510)\n",
        "    elif val > 10:\n",
        "        recipes_sheet.range(f\"D{i}\").color = (249, 138, 138)\n",
        "        print(10)\n",
        "wb6.save()\n",
        "wb6.close()"
      ],
      "metadata": {
        "id": "E2lk0G3V9fge"
      },
      "execution_count": null,
      "outputs": []
    },
    {
      "cell_type": "markdown",
      "metadata": {
        "id": "NSFC7RbQUJUS"
      },
      "source": [
        "7. Добавьте на лист `Рецепты`  столбец `n_reviews`, содержащий кол-во отзывов для этого рецепта. Выполните задание при помощи формул Excel."
      ]
    },
    {
      "cell_type": "code",
      "source": [
        "wb7 = xw.Book('data\\\\recipes.xlsx')\n",
        "recipes_sheet = wb7.sheets['Рецепты']\n",
        "recipes_sheet.range(\"L1\").value = \"n_reviews\"\n",
        "recipes_sheet.range(\"L1\").api.HorizontalAlignment = xw.constants.HAlign.xlHAlignCenter\n",
        "recipes_sheet.range(\"L1\").font.bold = True\n",
        "recipes_sheet.range(f'L2:L{row_count}').formula = f'=COUNTIF(Отзывы!D:D, B2)'\n",
        "wb7.save()"
      ],
      "metadata": {
        "id": "uhjmtGiP9qi9"
      },
      "execution_count": null,
      "outputs": []
    },
    {
      "cell_type": "markdown",
      "metadata": {
        "id": "9gqcaQMkUJUS"
      },
      "source": [
        "## Лабораторная работа 7.2"
      ]
    },
    {
      "cell_type": "markdown",
      "metadata": {
        "id": "3ZBMVS3oUJUS"
      },
      "source": [
        "8. Напишите функцию `validate()`, которая проверяет соответствие всех строк из листа `Отзывы` следующим правилам:\n",
        "    * Рейтинг - это число от 0 до 5 включительно\n",
        "    * Соответствующий рецепт имеется на листе `Рецепты`\n",
        "    \n",
        "В случае несоответствия этим правилам, выделите строку красным цветом"
      ]
    },
    {
      "cell_type": "code",
      "source": [
        "import xlwings as xw\n",
        "def validate(recipes_sheet, reviews_sheet, row_count = 1500):\n",
        "    reviews_sheet.range(f'L2:L{row_count}').formula = f'=COUNTIF(Рецепты!B:B, D2)'\n",
        "    for i in range(2, row_count+2):\n",
        "        rating_val = reviews_sheet.range(f\"F{i}\").value\n",
        "        id_val = recipes_sheet.range(f\"B{i}\").value\n",
        "        recipe_id_val = reviews_sheet.range(f\"D{i}\").value\n",
        "        rec_in = reviews_sheet.range(f\"L{i}\").value\n",
        "        if not(0<=rating_val<=5 and rec_in):\n",
        "            reviews_sheet.range(f\"A{i}:L{i}\").color = (249, 138, 138)\n",
        "            \n",
        "wb6 = xw.Book('data\\\\recipes.xlsx')\n",
        "recipes_sheet = wb6.sheets['Рецепты']\n",
        "reviews_sheet = wb6.sheets['Отзывы']\n",
        "\n",
        "first_row_index = reviews_sheet.range(\"D1\").end('left').row\n",
        "last_row_index = reviews_sheet.range(\"D1\").end('down').row\n",
        "row_count = last_row_index - first_row_index\n",
        "column_name = \"D\"\n",
        "validate(recipes_sheet, reviews_sheet, row_count=row_count)\n",
        "\n",
        "wb6.save()\n",
        "wb6.close()"
      ],
      "metadata": {
        "id": "sdqaWyGs9soh"
      },
      "execution_count": null,
      "outputs": []
    },
    {
      "cell_type": "markdown",
      "metadata": {
        "id": "IEn-aFDhUJUS"
      },
      "source": [
        "9. В файле `recipes_model.csv` находится модель данных предметной области \"рецепты\". При помощи пакета `csv` считайте эти данные. При помощи пакета `xlwings` запишите данные на лист `Модель` книги `recipes_model.xlsx`, начиная с ячейки `A2`, не используя циклы. Сделайте скриншот текущего состояния листа и прикрепите в ячейку ноутбука. "
      ]
    },
    {
      "cell_type": "code",
      "source": [
        "model = pd.read_csv(\"data\\\\recipes_model.csv\", delimiter=\"\\t\", header=None)\n",
        "model.to_excel(\"data\\\\recipes_model.xlsx\", sheet_name=\"Модель\", startrow=1, index=False, header=False)"
      ],
      "metadata": {
        "id": "P_SukrVF97qJ"
      },
      "execution_count": null,
      "outputs": []
    },
    {
      "cell_type": "markdown",
      "metadata": {
        "id": "7EJPrBP5UJUS"
      },
      "source": [
        "10. При помощи пакета `xlwings` добавьте в столбец J формулу для описания столбца на языке SQL. Формула должна реализовывать следующую логику:\n",
        "\n",
        "    1\\. в начале строки идут значения из столбцов В и C (значение столбца С приведено к верхнему регистру), разделенные пробелом\n",
        "    \n",
        "    2\\. далее идут слова на основе столбца \"Ключ\"\n",
        "        2.1 если в столбце \"Ключ\" указано значение \"PK\", то дальше через пробел идет ключевое слово \"PRIMARY KEY\"\n",
        "        2.2 если в столбце \"Ключ\" указано значение \"FK\", то дальше через пробел идет ключевое слово \"REFERENCES\", затем значения столбцов H и I в формате \"название_таблицы(название_столбца)\"\n",
        "        \n",
        "    3\\. если в столбце \"Обязательно к заполнению\" указано значение \"Y\" и в столбце \"Ключ\" указано не \"PK\", то дальше через пробел идет ключевое слово \"NOT NULL\".\n",
        "\n",
        "Заполните этой формулой необходимое количество строк, используя \"протягивание\". Количество строк для протягивания определите на основе данных.\n",
        "\n",
        "Сделайте скриншот текущего состояния листа и прикрепите в ячейку ноутбука."
      ]
    },
    {
      "cell_type": "markdown",
      "metadata": {
        "id": "7UAxSVPsUJUT"
      },
      "source": [
        "11. При помощи пакета `xlwings` измените стилизацию листа `Модель`.\n",
        "* для заголовков добавьте заливку цвета `00ccff`\n",
        "* примените автоподбор ширины столбца;\n",
        "* сделайте шрифт заголовков полужирным;\n",
        "* добавьте таблице автофильтр.\n",
        "\n",
        "Сделайте скриншот текущего состояния листа и прикрепите в ячейку ноутбука."
      ]
    },
    {
      "cell_type": "code",
      "source": [
        "wb11 = xw.Book(\"data\\\\recipes_model.xlsx\")\n",
        "sht11 = wb11.sheets[\"Модель\"]\n",
        "\n",
        "\n",
        "sht11.range(\"G1\").value = \"Ключ\"\n",
        "sht11.range(\"J1\").value = \"SQL скрипт создания строки\"\n",
        "\n",
        "sht11.range(f\"A1:J1\").color = \"#00ccff\"\n",
        "\n",
        "sht11.autofit(axis=\"columns\")\n",
        "\n",
        "sht11.range(\"A1:J1\").font.bold = True\n",
        "\n",
        "sht11.show_autofilter = True\n",
        "wb11.save()"
      ],
      "metadata": {
        "id": "EgLUcSJF-Rnu"
      },
      "execution_count": null,
      "outputs": []
    },
    {
      "cell_type": "markdown",
      "metadata": {
        "id": "7JI9dlfSUJUT"
      },
      "source": [
        "12. Посчитайте количество атрибутов для каждой из сущностей. Создайте лист `Статистика` и запишите в него результат группировки, начиная с ячейки \"А1\". Визуализируйте полученный результат при помощи столбчатой диаграммы. Сохраните полученную визуализацию на лист `Статистика`, начиная с ячейки \"E2\".  Сделайте скриншот листа `Статистика` и прикрепите в ячейку ноутбука.\n",
        "\n",
        "* Вы можете воспользоваться методами для визуализации, которые поставляются вместе с объектами `pandas` (см. https://pandas.pydata.org/docs/reference/api/pandas.DataFrame.plot) "
      ]
    }
  ],
  "metadata": {
    "kernelspec": {
      "display_name": "Python 3 (ipykernel)",
      "language": "python",
      "name": "python3"
    },
    "language_info": {
      "codemirror_mode": {
        "name": "ipython",
        "version": 3
      },
      "file_extension": ".py",
      "mimetype": "text/x-python",
      "name": "python",
      "nbconvert_exporter": "python",
      "pygments_lexer": "ipython3",
      "version": "3.9.12"
    },
    "colab": {
      "provenance": []
    }
  },
  "nbformat": 4,
  "nbformat_minor": 0
}